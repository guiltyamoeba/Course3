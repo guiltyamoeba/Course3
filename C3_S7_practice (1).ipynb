{
 "cells": [
  {
   "cell_type": "code",
   "execution_count": 21,
   "id": "6fe5dcf3-969f-413d-b0fe-269b949b6af8",
   "metadata": {},
   "outputs": [],
   "source": [
    "#task1\n",
    "class Product:\n",
    "    def calculate_price(self):\n",
    "        raise NotImplementedError(\"Every product must know its price\")\n"
   ]
  },
  {
   "cell_type": "code",
   "execution_count": 23,
   "id": "e68c1f81-3cab-4871-9279-4cc825d2fd34",
   "metadata": {},
   "outputs": [],
   "source": [
    "#task2\n",
    "class DigitalProduct(Product):\n",
    "    def __init__(self, product_name, price, weight):\n",
    "        self.product_name = product_name\n",
    "        self.price = price\n",
    "        self.weight = weight\n",
    "        self.shipping_charge = 0  # Digital products typically have no shipping charge\n",
    "        self.delivery_charge = 0  # Digital products typically have instant delivery\n",
    "\n",
    "    def calculate_total_price(self):\n",
    "        return self.price\n"
   ]
  },
  {
   "cell_type": "code",
   "execution_count": 25,
   "id": "6751271b-6163-4276-8964-ac765169fbb2",
   "metadata": {},
   "outputs": [],
   "source": [
    "#task3\n",
    "class PhysicalProduct(Product):\n",
    "    def __init__(self, product_name, price, weight, shipping_charge, delivery_charge):\n",
    "        self.product_name = product_name\n",
    "        self.price = price\n",
    "        self.weight = weight\n",
    "        self.shipping_charge = shipping_charge\n",
    "        self.delivery_charge = delivery_charge\n",
    "\n",
    "    def calculate_total_price(self):\n",
    "        return self.price + self.shipping_charge + self.delivery_charge\n"
   ]
  },
  {
   "cell_type": "code",
   "execution_count": 27,
   "id": "ee746904-824b-4db7-be36-1bdb477c9a8b",
   "metadata": {},
   "outputs": [],
   "source": [
    "#task4\n",
    "class Order:\n",
    "    def __init__(self, customer_name):\n",
    "        self.__customer_name = customer_name\n",
    "        self.__items = []\n",
    "        self.__total_price = 0\n",
    "\n",
    "    def add_item(self, product):\n",
    "        self.__items.append(product)\n",
    "        self.__total_price += product.calculate_total_price()\n",
    "\n",
    "    def get_customer_name(self):\n",
    "        return self.__customer_name\n",
    "\n",
    "    def get_items(self):\n",
    "        return self.__items\n",
    "\n",
    "    def get_total_price(self):\n",
    "        return self.__total_price\n"
   ]
  },
  {
   "cell_type": "code",
   "execution_count": 34,
   "id": "a9a0e681-cc70-49f7-8e52-bc72816da36c",
   "metadata": {},
   "outputs": [
    {
     "name": "stdout",
     "output_type": "stream",
     "text": [
      "Customer: sudheera\n",
      "Python Book 9.99\n",
      "Python Book 22.99\n",
      "Total: 32.98\n",
      "\n",
      "Customer: Bob\n",
      "Python Book 9.99\n",
      "Total: 9.99\n"
     ]
    }
   ],
   "source": [
    "#task5\n",
    "class Product:\n",
    "    def __init__(self, name, price):\n",
    "        self.name = name\n",
    "        self.price = price\n",
    "\n",
    "    def calculate_price(self):\n",
    "        return self.price\n",
    "\n",
    "class DigitalProduct(Product):\n",
    "    def __init__(self, name, price):\n",
    "        super().__init__(name, price)\n",
    "\n",
    "class PhysicalProduct(Product):\n",
    "    def __init__(self, name, price, shipping, delivery):\n",
    "        super().__init__(name, price)\n",
    "        self.__shipping = shipping\n",
    "        self.__delivery = delivery\n",
    "\n",
    "    def calculate_price(self):\n",
    "        return self.price + self.__shipping + self.__delivery\n",
    "\n",
    "class Order:\n",
    "    def __init__(self, customer):\n",
    "        self.customer = customer\n",
    "        self.items = []\n",
    "        self.total_price = 0\n",
    "\n",
    "    def add_item(self, product):\n",
    "        self.items.append(product)\n",
    "        self.total_price += product.calculate_price()\n",
    "\n",
    "    def print_order(self):\n",
    "        print(\"Customer:\", self.customer)\n",
    "        for item in self.items:\n",
    "            print(item.name, item.calculate_price())\n",
    "        print(\"Total:\", self.total_price)\n",
    "\n",
    "def main():\n",
    "    # Create products\n",
    "    ebook = DigitalProduct(\"Python Book\", 9.99)\n",
    "    book = PhysicalProduct(\"Python Book\", 19.99, 2, 1)\n",
    "\n",
    "    # Create orders\n",
    "    order1 = Order(\"sudheera\")\n",
    "    order1.add_item(ebook)\n",
    "    order1.add_item(book)\n",
    "\n",
    "    order2 = Order(\"Bob\")\n",
    "    order2.add_item(ebook)\n",
    "\n",
    "    # Display order details\n",
    "    order1.print_order()\n",
    "    print()\n",
    "    order2.print_order()\n",
    "\n",
    "if __name__ == \"__main__\":\n",
    "    main()\n",
    "\n",
    "\n"
   ]
  },
  {
   "cell_type": "code",
   "execution_count": null,
   "id": "20932f87-7a85-40c6-aa6f-ce9c42a084ca",
   "metadata": {},
   "outputs": [],
   "source": []
  },
  {
   "cell_type": "code",
   "execution_count": null,
   "id": "d7e037c3-4afb-4234-92eb-251ce824fb19",
   "metadata": {},
   "outputs": [],
   "source": []
  }
 ],
 "metadata": {
  "kernelspec": {
   "display_name": "Python 3 (ipykernel)",
   "language": "python",
   "name": "python3"
  },
  "language_info": {
   "codemirror_mode": {
    "name": "ipython",
    "version": 3
   },
   "file_extension": ".py",
   "mimetype": "text/x-python",
   "name": "python",
   "nbconvert_exporter": "python",
   "pygments_lexer": "ipython3",
   "version": "3.12.4"
  }
 },
 "nbformat": 4,
 "nbformat_minor": 5
}
