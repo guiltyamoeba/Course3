{
 "cells": [
  {
   "cell_type": "code",
   "execution_count": 1,
   "id": "324170eb-fe30-419b-94a0-72d54f53f50e",
   "metadata": {},
   "outputs": [
    {
     "name": "stdout",
     "output_type": "stream",
     "text": [
      "FALSE\n"
     ]
    }
   ],
   "source": [
    "# Define the list\n",
    "mynames = [\"Joe\", \"Zoe\", \"world\", \"Brad\", \"Angelina\", \"world\", \"zuki\", \"Tom\", \"Paris\", \"world\", \"magic\"]\n",
    "\n",
    "# Check if \"Usa\" is in the list\n",
    "if \"Usa\" in mynames:\n",
    "    print(\"TRUE\")\n",
    "else:\n",
    "    print(\"FALSE\")"
   ]
  },
  {
   "cell_type": "code",
   "execution_count": 3,
   "id": "c12143be-1df8-4ee9-a517-0e916d8d317a",
   "metadata": {},
   "outputs": [
    {
     "name": "stdout",
     "output_type": "stream",
     "text": [
      "The word 'world' appears 3 times in the list.\n"
     ]
    }
   ],
   "source": [
    "# Define the list\n",
    "mynames = [\"Joe\", \"Zoe\", \"world\", \"Brad\", \"Angelina\", \"world\", \"Zuki\", \"Tom\", \"Paris\", \"world\", \"magic\"]\n",
    "\n",
    "# Count the occurrences of \"world\"\n",
    "world_count = mynames.count(\"world\")\n",
    "\n",
    "# Print the result\n",
    "print(\"The word 'world' appears\", world_count, \"times in the list.\")"
   ]
  },
  {
   "cell_type": "code",
   "execution_count": 5,
   "id": "15113231-ae1b-46ff-bb89-426c5c750ab9",
   "metadata": {},
   "outputs": [
    {
     "name": "stdout",
     "output_type": "stream",
     "text": [
      "Number of even numbers: 14\n",
      "Number of odd numbers: 15\n"
     ]
    }
   ],
   "source": [
    "# Define the list\n",
    "numlist = list(range(1, 30))\n",
    "\n",
    "# Initialize counters for even and odd numbers\n",
    "even_count = 0\n",
    "odd_count = 0\n",
    "\n",
    "# Loop through the list and count even and odd numbers\n",
    "for num in numlist:\n",
    "    if num % 2 == 0:\n",
    "        even_count += 1\n",
    "    else:\n",
    "        odd_count += 1\n",
    "\n",
    "# Print the results\n",
    "print(\"Number of even numbers:\", even_count)\n",
    "print(\"Number of odd numbers:\", odd_count)"
   ]
  },
  {
   "cell_type": "code",
   "execution_count": 7,
   "id": "37a939c8-62ce-404e-9c6c-985388e7f6d5",
   "metadata": {},
   "outputs": [
    {
     "name": "stdout",
     "output_type": "stream",
     "text": [
      "The first 5 even numbers are: [2, 4, 6, 8, 10]\n"
     ]
    }
   ],
   "source": [
    "# Define the original list\n",
    "numlist = list(range(1, 30))\n",
    "\n",
    "# Create an empty list to store even numbers\n",
    "el = []\n",
    "\n",
    "# Counter for even numbers found\n",
    "count = 0\n",
    "\n",
    "# Loop through numlist to find even numbers\n",
    "for num in numlist:\n",
    "    if num % 2 == 0:\n",
    "        el.append(num)\n",
    "        count += 1\n",
    "    if count == 5:\n",
    "        break  # Stop after finding 5 even numbers\n",
    "\n",
    "# Display the contents of the new list\n",
    "print(\"The first 5 even numbers are:\", el)"
   ]
  },
  {
   "cell_type": "code",
   "execution_count": 9,
   "id": "ac1cf673-0c81-4e2f-8f2b-9b54be8169b1",
   "metadata": {},
   "outputs": [
    {
     "name": "stdout",
     "output_type": "stream",
     "text": [
      "The last two odd numbers are:\n",
      "Last odd number: 29\n",
      "Second last odd number: 27\n"
     ]
    }
   ],
   "source": [
    "# Define the original list\n",
    "numlist = list(range(1, 30))\n",
    "\n",
    "# Initialize variables to keep track of the last two odd numbers\n",
    "last_odd = None\n",
    "second_last_odd = None\n",
    "\n",
    "# Loop through the list from left to right\n",
    "for num in numlist:\n",
    "    if num % 2 != 0:  # Check if the number is odd\n",
    "        second_last_odd = last_odd\n",
    "        last_odd = num\n",
    "\n",
    "# Print the results\n",
    "print(\"The last two odd numbers are:\")\n",
    "print(\"Last odd number:\", last_odd)\n",
    "print(\"Second last odd number:\", second_last_odd)"
   ]
  },
  {
   "cell_type": "code",
   "execution_count": 11,
   "id": "06f5335c-78fd-481c-95a4-6a82cc56dee3",
   "metadata": {},
   "outputs": [
    {
     "name": "stdin",
     "output_type": "stream",
     "text": [
      "Enter a string:  s\n",
      "Enter a string:  6\n",
      "Enter a string:  s5\n",
      "Enter a string:  54\n",
      "Enter a string:  55\n",
      "Enter a number:  4\n",
      "Enter a number:  55\n",
      "Enter a number:  89\n"
     ]
    },
    {
     "name": "stdout",
     "output_type": "stream",
     "text": [
      "['s', '6', 's5', '54', '55', 4, 55, 89]\n"
     ]
    }
   ],
   "source": [
    "x = []\n",
    "y = []\n",
    "\n",
    "# Input 5 strings\n",
    "for i in range(5):\n",
    "    string = input(\"Enter a string: \")\n",
    "    x.append(string)\n",
    "\n",
    "# Input 3 numbers\n",
    "for i in range(3):\n",
    "    number = int(input(\"Enter a number: \"))\n",
    "    y.append(number)\n",
    "\n",
    "# Append list y to list x\n",
    "x.extend(y)\n",
    "\n",
    "# Print the combined list\n",
    "print(x)\n"
   ]
  },
  {
   "cell_type": "code",
   "execution_count": 13,
   "id": "b716560d-f6fe-4e7d-a025-e0bcc79ebd50",
   "metadata": {},
   "outputs": [
    {
     "name": "stdout",
     "output_type": "stream",
     "text": [
      "[1, 4, 9, 16, 25, 36, 49, 64, 81, 100]\n",
      "[900, 961, 1024, 1089, 1156, 1225, 1296, 1369, 1444, 1521, 1600]\n"
     ]
    }
   ],
   "source": [
    "list_a = [x**2 for x in range(1, 11)]\n",
    "list_b = [x**2 for x in range(30, 41)]\n",
    "\n",
    "print(list_a)\n",
    "print(list_b)\n"
   ]
  },
  {
   "cell_type": "code",
   "execution_count": 15,
   "id": "a6c1c95d-f754-478d-adcb-2ae9bc1b48a3",
   "metadata": {},
   "outputs": [
    {
     "name": "stdin",
     "output_type": "stream",
     "text": [
      "Enter a positive integer:  5\n"
     ]
    },
    {
     "name": "stdout",
     "output_type": "stream",
     "text": [
      "5 x  1 =   5\n",
      "5 x  2 =  10\n",
      "5 x  3 =  15\n",
      "5 x  4 =  20\n",
      "5 x  5 =  25\n",
      "5 x  6 =  30\n",
      "5 x  7 =  35\n",
      "5 x  8 =  40\n",
      "5 x  9 =  45\n",
      "5 x 10 =  50\n"
     ]
    }
   ],
   "source": [
    "number = int(input(\"Enter a positive integer: \"))\n",
    "\n",
    "for i in range(1, 11):\n",
    "  result = number * i\n",
    "  print(f\"{number} x {i:2} = {result:3}\")\n"
   ]
  },
  {
   "cell_type": "code",
   "execution_count": null,
   "id": "29865114-4440-433f-aff7-e185b9608c61",
   "metadata": {},
   "outputs": [],
   "source": []
  }
 ],
 "metadata": {
  "kernelspec": {
   "display_name": "Python 3 (ipykernel)",
   "language": "python",
   "name": "python3"
  },
  "language_info": {
   "codemirror_mode": {
    "name": "ipython",
    "version": 3
   },
   "file_extension": ".py",
   "mimetype": "text/x-python",
   "name": "python",
   "nbconvert_exporter": "python",
   "pygments_lexer": "ipython3",
   "version": "3.12.4"
  }
 },
 "nbformat": 4,
 "nbformat_minor": 5
}
