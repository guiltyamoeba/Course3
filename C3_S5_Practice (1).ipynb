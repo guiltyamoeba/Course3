{
 "cells": [
  {
   "cell_type": "code",
   "execution_count": 3,
   "id": "386063d9-dc77-4892-a5ac-820f84003079",
   "metadata": {},
   "outputs": [
    {
     "name": "stdin",
     "output_type": "stream",
     "text": [
      "Enter a word:  cuc\n"
     ]
    },
    {
     "name": "stdout",
     "output_type": "stream",
     "text": [
      "cuc is a palindrome\n"
     ]
    }
   ],
   "source": [
    "#task1:\n",
    "def is_palindrome(word):\n",
    "  return word == word[::-1]\n",
    "\n",
    "word = input(\"Enter a word: \")\n",
    "if is_palindrome(word):\n",
    "  print(word, \"is a palindrome\")\n",
    "else:\n",
    "  print(word, \"is not a palindrome\")"
   ]
  },
  {
   "cell_type": "code",
   "execution_count": 5,
   "id": "83dd1175-dbbb-4b77-8bc9-5a27db5f99e4",
   "metadata": {},
   "outputs": [
    {
     "name": "stdin",
     "output_type": "stream",
     "text": [
      "Enter words separated by commas:  a,o,e,u,i\n"
     ]
    },
    {
     "name": "stdout",
     "output_type": "stream",
     "text": [
      "['a', 'e', 'i', 'o', 'u']\n"
     ]
    }
   ],
   "source": [
    "#task2:\n",
    "def accept_multiple_and_sort_words():\n",
    "   words = input(\"Enter words separated by commas: \").split(\",\")\n",
    "   words.sort()\n",
    "   print(words)\n",
    "\n",
    "accept_multiple_and_sort_words()"
   ]
  },
  {
   "cell_type": "code",
   "execution_count": 7,
   "id": "65f79ff1-8cbb-4316-a607-5d2fa0f1ee7b",
   "metadata": {},
   "outputs": [
    {
     "name": "stdout",
     "output_type": "stream",
     "text": [
      "Sesha\n"
     ]
    }
   ],
   "source": [
    "#task3:\n",
    "def chars_to_string():\n",
    "    # Get input from user\n",
    "    char_list = input(\"Enter characters separated by commas: \").split(',')\n",
    "    \n",
    "    # Remove any leading/trailing whitespace from each character\n",
    "    char_list = [char.strip() for char in char_list]\n",
    "    \n",
    "    # Join the characters into a string\n",
    "    result = ''.join(char_list)\n",
    "    \n",
    "    return result\n",
    "\n",
    "# Call the function and display the result\n",
    "output = chars_to_string()\n",
    "print(\"Output:\", output)"
   ]
  },
  {
   "cell_type": "code",
   "execution_count": 9,
   "id": "398e9bb5-e30c-4360-acd8-1c3b36f2bba3",
   "metadata": {},
   "outputs": [
    {
     "name": "stdin",
     "output_type": "stream",
     "text": [
      "Enter number 1:  1\n",
      "Enter number 2:  2\n",
      "Enter number 3:  2\n",
      "Enter number 4:  3\n",
      "Enter number 5:  5\n",
      "Enter number 6:  5\n",
      "Enter number 7:  6\n",
      "Enter number 8:  4\n",
      "Enter number 9:  8\n",
      "Enter number 10:  9\n"
     ]
    },
    {
     "name": "stdout",
     "output_type": "stream",
     "text": [
      "Min = 1\n",
      "Max = 9\n"
     ]
    }
   ],
   "source": [
    "#task4:\n",
    "def find_min_max(numbers):\n",
    "  min_value = min(numbers)\n",
    "  max_value = max(numbers)\n",
    "  return min_value, max_value\n",
    "def get_user_input():\n",
    "  numbers = []\n",
    "  for i in range(10):\n",
    "    number = int(input(f\"Enter number {i+1}: \"))\n",
    "    numbers.append(number)\n",
    "  return numbers\n",
    "\n",
    "numbers = get_user_input()\n",
    "min_value, max_value = find_min_max(numbers)\n",
    "\n",
    "print(\"Min =\", min_value)\n",
    "print(\"Max =\", max_value)"
   ]
  },
  {
   "cell_type": "code",
   "execution_count": 11,
   "id": "4a1dd347-b862-4d8d-8753-5f82777f8c6f",
   "metadata": {},
   "outputs": [
    {
     "name": "stdin",
     "output_type": "stream",
     "text": [
      "Enter item name :  1\n",
      "Enter item value:  55\n",
      "Enter item name :  5\n",
      "Enter item value:  66\n",
      "Enter item name :  66\n",
      "Enter item value:  22\n",
      "Enter item name :  22\n",
      "Enter item value:  33\n",
      "Enter item name :  99\n",
      "Enter item value:  88\n",
      "Enter item name :  done\n"
     ]
    },
    {
     "name": "stdout",
     "output_type": "stream",
     "text": [
      "Max value: 88.0\n",
      "Min value: 22.0\n"
     ]
    }
   ],
   "source": [
    "#task5:\n",
    "def populate_dictionary():\n",
    "  my_dict = {}\n",
    "  while True:\n",
    "    item_name = input(\"Enter item name : \")\n",
    "    if item_name == 'done':\n",
    "      break\n",
    "    item_value = float(input(\"Enter item value: \"))\n",
    "    my_dict[item_name] = item_value\n",
    "\n",
    "  max_value = max(my_dict.values())\n",
    "  min_value = min(my_dict.values())\n",
    "\n",
    "  print(\"Max value:\", max_value)\n",
    "  print(\"Min value:\", min_value)\n",
    "populate_dictionary()"
   ]
  },
  {
   "cell_type": "code",
   "execution_count": 13,
   "id": "c4fc4196-04d7-434f-9f0b-9daec0e8a171",
   "metadata": {},
   "outputs": [
    {
     "name": "stdin",
     "output_type": "stream",
     "text": [
      "Enter name:  sesha\n",
      "Enter age:  22\n",
      "Enter gender:  f\n",
      "Enter occupation:  freelancer\n"
     ]
    },
    {
     "name": "stdout",
     "output_type": "stream",
     "text": [
      "\n",
      "Profile Card\n",
      "Name: sesha\n",
      "Age: 22\n",
      "Gender: f\n",
      "Occupation: freelancer\n"
     ]
    }
   ],
   "source": [
    "#task6:\n",
    "def f1():\n",
    "    name = input(\"Enter name: \")\n",
    "    age = int(input(\"Enter age: \"))\n",
    "    gender = input(\"Enter gender: \")\n",
    "    occupation = input(\"Enter occupation: \")\n",
    "\n",
    "    f2(name, age, gender, occupation)\n",
    "\n",
    "def f2(name, age, gender, occupation):\n",
    "\n",
    "    print(\"\\nProfile Card\")\n",
    "    print(\"Name:\", name)\n",
    "    print(\"Age:\", age)\n",
    "    print(\"Gender:\", gender)\n",
    "    print(\"Occupation:\", occupation)\n",
    "\n",
    "if __name__ == \"__main__\":\n",
    "    f1()"
   ]
  },
  {
   "cell_type": "code",
   "execution_count": 15,
   "id": "6b596d7c-4175-47fb-bbf1-3ae288ef98a5",
   "metadata": {},
   "outputs": [
    {
     "name": "stdout",
     "output_type": "stream",
     "text": [
      "[('green', 1), ('blue', 2), ('yellow', 3), ('black', 4), ('red', 5)]\n"
     ]
    }
   ],
   "source": [
    "#task7:\n",
    "def sort_color_number(color_list):\n",
    "    sorted_color = sorted(color_list, key=lambda x: x[1])\n",
    "    return sorted_color\n",
    "\n",
    "color = [('black', 4), ('green', 1), ('red', 5), ('blue', 2), ('yellow', 3)]\n",
    "sorted_color = sort_color_number(color)\n",
    "print(sorted_color)"
   ]
  },
  {
   "cell_type": "code",
   "execution_count": 17,
   "id": "23f13937-d6dc-41b8-9bef-0ee3dce74d31",
   "metadata": {},
   "outputs": [
    {
     "name": "stdout",
     "output_type": "stream",
     "text": [
      "['Mandy']\n"
     ]
    }
   ],
   "source": [
    "#task 8:\n",
    "a=[\"Andy\", \"Mandy\",\"Sandy\"]\n",
    "b=[\"Handy\",\"Burgundy\", \"Mandy\"]\n",
    "result=list(filter(lambda x: x in a,b))\n",
    "print(result)"
   ]
  },
  {
   "cell_type": "code",
   "execution_count": 1,
   "id": "ed32e040-2229-4ef9-90b6-9bd64a1ca7b6",
   "metadata": {},
   "outputs": [
    {
     "name": "stdout",
     "output_type": "stream",
     "text": [
      "[29, 30, 31]\n"
     ]
    }
   ],
   "source": [
    "#task9:\n",
    "c = [12, 14, 14]\n",
    "d = [17, 16, 17]\n",
    "\n",
    "result = list(map(lambda x, y: x + y, c, d))\n",
    "\n",
    "print(result)"
   ]
  },
  {
   "cell_type": "code",
   "execution_count": 3,
   "id": "dc8688ab-8080-43c4-b62c-b34067ba16c6",
   "metadata": {},
   "outputs": [
    {
     "name": "stdout",
     "output_type": "stream",
     "text": [
      "True\n"
     ]
    }
   ],
   "source": [
    "#task10\n",
    "def is_over_18(dob, doj):\n",
    "    # Split the dates into parts\n",
    "    dob_parts = dob.split(\"-\")\n",
    "    doj_parts = doj.split(\"-\")\n",
    "    \n",
    "    # Extract the year from each date\n",
    "    # Note: In MM-DD-YYYY format, the year is the last element\n",
    "    birth_year = int(dob_parts[2])\n",
    "    joining_year = int(doj_parts[2])\n",
    "    \n",
    "    # Calculate the age at the time of joining\n",
    "    age_at_joining = joining_year - birth_year\n",
    "    \n",
    "    # Return True if age is 18 or over, False otherwise\n",
    "    return age_at_joining >= 18\n",
    "\n",
    "# Test the function\n",
    "dob = \"12-25-1991\"  # date of birth in MM-DD-YYYY format\n",
    "doj = \"04-25-2020\"  # date of joining the company in MM-DD-YYYY format\n",
    "\n",
    "result = is_over_18(dob, doj)\n",
    "print(result)"
   ]
  },
  {
   "cell_type": "code",
   "execution_count": null,
   "id": "91e16508-b387-494d-9fc9-fce3938f3699",
   "metadata": {},
   "outputs": [],
   "source": []
  }
 ],
 "metadata": {
  "kernelspec": {
   "display_name": "Python 3 (ipykernel)",
   "language": "python",
   "name": "python3"
  },
  "language_info": {
   "codemirror_mode": {
    "name": "ipython",
    "version": 3
   },
   "file_extension": ".py",
   "mimetype": "text/x-python",
   "name": "python",
   "nbconvert_exporter": "python",
   "pygments_lexer": "ipython3",
   "version": "3.12.4"
  }
 },
 "nbformat": 4,
 "nbformat_minor": 5
}
