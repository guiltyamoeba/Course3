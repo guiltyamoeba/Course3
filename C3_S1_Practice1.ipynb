{
 "cells": [
  {
   "cell_type": "markdown",
   "id": "eefe7ca2-ba5d-4981-8505-573da5220455",
   "metadata": {},
   "source": [
    "### Practice"
   ]
  },
  {
   "cell_type": "code",
   "execution_count": 53,
   "id": "ae1ace25-dda8-4464-801e-ea72a9001b2a",
   "metadata": {},
   "outputs": [
    {
     "name": "stdout",
     "output_type": "stream",
     "text": [
      "Roll number: 23\n",
      "Type of rollno: <class 'int'>\n",
      "ID of rollno: 140726082944120\n"
     ]
    }
   ],
   "source": [
    "# Task 1: Variable assignment and information\n",
    "rollno = 23\n",
    "print(\"Roll number:\", rollno)\n",
    "print(\"Type of rollno:\", type(rollno))\n",
    "print(\"ID of rollno:\", id(rollno))"
   ]
  },
  {
   "cell_type": "code",
   "execution_count": 55,
   "id": "1747af7d-ac9b-4e5c-ab28-ce2e59d212c4",
   "metadata": {},
   "outputs": [
    {
     "name": "stdout",
     "output_type": "stream",
     "text": [
      "\n",
      "First name: Sudheera\n",
      "Type of firstname: <class 'str'>\n",
      "ID of firstname: 2175658380912\n"
     ]
    }
   ],
   "source": [
    "#task(b)\n",
    "firstname = \"Sudheera\"\n",
    "print(\"\\nFirst name:\", firstname)\n",
    "print(\"Type of firstname:\", type(firstname))\n",
    "print(\"ID of firstname:\", id(firstname))"
   ]
  },
  {
   "cell_type": "code",
   "execution_count": 57,
   "id": "f65e6eb1-d823-48a0-ac7b-d79efacfd786",
   "metadata": {},
   "outputs": [
    {
     "name": "stdout",
     "output_type": "stream",
     "text": [
      "\n",
      "Last name: Konduri\n",
      "Type of lastname: <class 'str'>\n",
      "ID of lastname: 2175662126976\n"
     ]
    }
   ],
   "source": [
    "#task(c)\n",
    "lastname = \"Konduri\"\n",
    "print(\"\\nLast name:\", lastname)\n",
    "print(\"Type of lastname:\", type(lastname))\n",
    "print(\"ID of lastname:\", id(lastname))"
   ]
  },
  {
   "cell_type": "code",
   "execution_count": 59,
   "id": "4d4b3aad-473c-443b-bf75-a8a4a63cf05d",
   "metadata": {},
   "outputs": [
    {
     "name": "stdout",
     "output_type": "stream",
     "text": [
      "\n",
      "Maximum marks: 50\n",
      "Type of max_marks: <class 'int'>\n",
      "ID of max_marks: 140726082944984\n"
     ]
    }
   ],
   "source": [
    "#task(d)\n",
    "max_marks = 50\n",
    "print(\"\\nMaximum marks:\", max_marks)\n",
    "print(\"Type of max_marks:\", type(max_marks))\n",
    "print(\"ID of max_marks:\", id(max_marks))"
   ]
  },
  {
   "cell_type": "code",
   "execution_count": 61,
   "id": "493c73e0-6a8c-400c-afea-1fc00327ae32",
   "metadata": {},
   "outputs": [
    {
     "name": "stdout",
     "output_type": "stream",
     "text": [
      "\n",
      "var1 = 2\n"
     ]
    }
   ],
   "source": [
    "# Task 2: Valid and invalid variable names\n",
    "var1 = 2\n",
    "print(\"\\nvar1 =\", var1)\n"
   ]
  },
  {
   "cell_type": "code",
   "execution_count": 63,
   "id": "c15dfe8e-103d-49b8-8859-ede62a0cebd7",
   "metadata": {},
   "outputs": [
    {
     "name": "stdout",
     "output_type": "stream",
     "text": [
      "2var = 2  # This will cause an error\n"
     ]
    }
   ],
   "source": [
    "print(\"2var = 2  # This will cause an error\")"
   ]
  },
  {
   "cell_type": "code",
   "execution_count": 65,
   "id": "57232e82-60f6-413a-b75e-39135780080d",
   "metadata": {},
   "outputs": [
    {
     "name": "stdout",
     "output_type": "stream",
     "text": [
      "var 1 = 2  # This will cause an error\n"
     ]
    }
   ],
   "source": [
    "print(\"var 1 = 2  # This will cause an error\")"
   ]
  },
  {
   "cell_type": "code",
   "execution_count": 67,
   "id": "bf61f69a-d80b-4e9f-8373-3bb1eba032cf",
   "metadata": {},
   "outputs": [
    {
     "name": "stdout",
     "output_type": "stream",
     "text": [
      "var$2 = 2  # This will cause an error\n"
     ]
    }
   ],
   "source": [
    "print(\"var$2 = 2  # This will cause an error\")"
   ]
  },
  {
   "cell_type": "code",
   "execution_count": 5,
   "id": "15f1113a-50e7-4305-ae87-9063b12fdefb",
   "metadata": {},
   "outputs": [
    {
     "name": "stdout",
     "output_type": "stream",
     "text": [
      "15\n",
      "13\n",
      "True\n",
      "False\n"
     ]
    }
   ],
   "source": [
    "# Task 3: Keywords as variable names\n",
    "# Task 3: Assigning values to variables\n",
    "\n",
    "# a) Class = 15  # This is generally discouraged due to using a capitalized name like a keyword\n",
    "Class = 15\n",
    "print(Class)\n",
    "\n",
    "# b) class = 14  # This will cause a SyntaxError as 'class' is a keyword\n",
    "# class = 14\n",
    "\n",
    "# c) DEF = 13  # Discouraged due to using a capitalized name like a keyword\n",
    "DEF = 13\n",
    "print(DEF)\n",
    "\n",
    "# d) def = 12  # This will cause a SyntaxError as 'def' is a keyword\n",
    "# def = 12\n",
    "\n",
    "# e) a = TRUE  # Corrected to 'True' as Python is case-sensitive\n",
    "a = True\n",
    "print(a)\n",
    "\n",
    "# f) b = false  # Corrected to 'False' as Python is case-sensitive\n",
    "b = False\n",
    "print(b)\n"
   ]
  },
  {
   "cell_type": "code",
   "execution_count": 73,
   "id": "e05baa63-f2fc-4f1a-88fb-8ad3dc46cbc7",
   "metadata": {},
   "outputs": [
    {
     "name": "stdout",
     "output_type": "stream",
     "text": [
      "\n",
      "Marks: 95.88\n",
      "Type of marks: <class 'float'>\n",
      "ID of marks: 2175712181424\n"
     ]
    }
   ],
   "source": [
    "# Task 4: Floating-point numbers and variable reassignment\n",
    "marks = 95.88\n",
    "print(\"\\nMarks:\", marks)\n",
    "print(\"Type of marks:\", type(marks))\n",
    "print(\"ID of marks:\", id(marks))"
   ]
  },
  {
   "cell_type": "code",
   "execution_count": 75,
   "id": "fbacfe04-b3bb-4d20-8a17-24973fa943e1",
   "metadata": {},
   "outputs": [
    {
     "name": "stdout",
     "output_type": "stream",
     "text": [
      "\n",
      "Updated marks: 88.88\n",
      "Type of marks: <class 'float'>\n",
      "ID of marks: 2175656832688\n"
     ]
    }
   ],
   "source": [
    "marks = 88.88\n",
    "print(\"\\nUpdated marks:\", marks)\n",
    "print(\"Type of marks:\", type(marks))\n",
    "print(\"ID of marks:\", id(marks))"
   ]
  },
  {
   "cell_type": "code",
   "execution_count": 77,
   "id": "34dc1f40-db1e-47fd-9617-7aade11c3295",
   "metadata": {},
   "outputs": [
    {
     "name": "stdout",
     "output_type": "stream",
     "text": [
      "\n",
      "Percentage: 88.88\n"
     ]
    }
   ],
   "source": [
    "# Task 5: Calculating percentage\n",
    "maxmarks=100\n",
    "percentage = (marks / maxmarks) * 100\n",
    "print(\"\\nPercentage:\", percentage)\n"
   ]
  },
  {
   "cell_type": "code",
   "execution_count": 79,
   "id": "60b7e3f3-8df4-4613-a367-c8c85780ea9a",
   "metadata": {},
   "outputs": [
    {
     "name": "stdout",
     "output_type": "stream",
     "text": [
      "\n",
      "Full name: Sudheera Konduri\n",
      "Sudheera Konduri scored 88.88%\n"
     ]
    }
   ],
   "source": [
    "fullname = firstname + \" \" + lastname\n",
    "print(\"\\nFull name:\", fullname)\n",
    "\n",
    "result_string = fullname + \" scored \" + str(percentage) + \"%\"\n",
    "print(result_string)"
   ]
  },
  {
   "cell_type": "code",
   "execution_count": 13,
   "id": "8a558a0c-1ccf-4f21-bb49-ea6e8165c6aa",
   "metadata": {},
   "outputs": [
    {
     "ename": "TypeError",
     "evalue": "unsupported operand type(s) for +: 'int' and 'str'",
     "output_type": "error",
     "traceback": [
      "\u001b[1;31m---------------------------------------------------------------------------\u001b[0m",
      "\u001b[1;31mTypeError\u001b[0m                                 Traceback (most recent call last)",
      "Cell \u001b[1;32mIn[13], line 4\u001b[0m\n\u001b[0;32m      1\u001b[0m \u001b[38;5;66;03m# Task 6: Arithmetic Operations\u001b[39;00m\n\u001b[0;32m      2\u001b[0m \n\u001b[0;32m      3\u001b[0m \u001b[38;5;66;03m# Arithmetic operations\u001b[39;00m\n\u001b[1;32m----> 4\u001b[0m a \u001b[38;5;241m=\u001b[39m \u001b[38;5;241m1\u001b[39m \u001b[38;5;241m+\u001b[39m \u001b[38;5;124m\"\u001b[39m\u001b[38;5;124m2\u001b[39m\u001b[38;5;124m\"\u001b[39m  \u001b[38;5;66;03m# Will result in a TypeError\u001b[39;00m\n\u001b[0;32m      5\u001b[0m b \u001b[38;5;241m=\u001b[39m \u001b[38;5;124m\"\u001b[39m\u001b[38;5;124m1\u001b[39m\u001b[38;5;124m\"\u001b[39m \u001b[38;5;241m+\u001b[39m \u001b[38;5;124m\"\u001b[39m\u001b[38;5;124m2\u001b[39m\u001b[38;5;124m\"\u001b[39m\n\u001b[0;32m      6\u001b[0m c \u001b[38;5;241m=\u001b[39m \u001b[38;5;241m1\u001b[39m \u001b[38;5;241m/\u001b[39m \u001b[38;5;241m2\u001b[39m\n",
      "\u001b[1;31mTypeError\u001b[0m: unsupported operand type(s) for +: 'int' and 'str'"
     ]
    }
   ],
   "source": [
    "# Task 6: Arithmetic Operations\n",
    "\n",
    "# Arithmetic operations\n",
    "a = 1 + \"2\"  # Will result in a TypeError\n",
    "b = \"1\" + \"2\"\n",
    "c = 1 / 2\n",
    "d = 1 // 2\n",
    "\n",
    "print(a)  # This will print the TypeError\n",
    "print(b)\n",
    "print(c)\n",
    "print(d)\n"
   ]
  },
  {
   "cell_type": "code",
   "execution_count": 83,
   "id": "daaa9205-52ad-4690-b584-5db7ccea59c5",
   "metadata": {},
   "outputs": [
    {
     "name": "stdout",
     "output_type": "stream",
     "text": [
      "0.5\n"
     ]
    }
   ],
   "source": [
    "print(1/2)"
   ]
  },
  {
   "cell_type": "code",
   "execution_count": 85,
   "id": "36827d03-25d9-47ca-9dd3-bf88dcf23c62",
   "metadata": {},
   "outputs": [
    {
     "name": "stdout",
     "output_type": "stream",
     "text": [
      "0\n"
     ]
    }
   ],
   "source": [
    "print(1//2)"
   ]
  },
  {
   "cell_type": "code",
   "execution_count": 15,
   "id": "23eab175-b266-4e18-bdf5-d28718365f97",
   "metadata": {},
   "outputs": [
    {
     "name": "stdout",
     "output_type": "stream",
     "text": [
      "\n",
      "Logical operations:\n",
      "True and True = True\n",
      "True and False = False\n",
      "False or True = True\n",
      "False or False = False\n"
     ]
    }
   ],
   "source": [
    "#task7: Logical operations\n",
    "print(\"\\nLogical operations:\")\n",
    "print(\"True and True =\", True and True)  # Both conditions are True, so the result is True\n",
    "print(\"True and False =\", True and False)  # One condition is False, so the result is False\n",
    "print(\"False or True =\", False or True)  # One condition is True, so the result is True\n",
    "print(\"False or False =\", False or False)  # Both conditions are False, so the result is False\n",
    "\n"
   ]
  },
  {
   "cell_type": "code",
   "execution_count": 89,
   "id": "77d805af-421c-4112-9466-291564ee449a",
   "metadata": {},
   "outputs": [
    {
     "name": "stdout",
     "output_type": "stream",
     "text": [
      "\n",
      "Membership and identity:\n",
      "'Sudheera' in 'Sudheera Konduri' = True\n",
      "firstname is fullname = False\n"
     ]
    }
   ],
   "source": [
    "#task8:a,b Membership and identity operators\n",
    "print(\"\\nMembership and identity:\")\n",
    "print(\"'Sudheera' in 'Sudheera Konduri' =\", 'Sudheera' in 'Sudheera Konduri')  # Checks if 'Sudheera' is a substring in 'Sudheera Konduri'\n",
    "print(\"firstname is fullname =\", firstname is fullname)  # Checks if 'firstname' and 'fullname' refer to the same object in memory\n"
   ]
  },
  {
   "cell_type": "code",
   "execution_count": 19,
   "id": "61337915-ada4-466e-805d-0c1a00e59d33",
   "metadata": {},
   "outputs": [
    {
     "name": "stdout",
     "output_type": "stream",
     "text": [
      "\n",
      "Operator precedence:\n",
      "a = 4 , b = 3 , c = 2\n",
      "a**b + c = 66   # Exponentiation is performed first, then addition\n",
      "a**(b + c) = 1024   # Parentheses force addition to be performed first, then exponentiation\n",
      "The output is different due to operator precedence in Python.\n"
     ]
    }
   ],
   "source": [
    "#task9:a,b,c\n",
    "# Task 10: Operator precedence\n",
    "a, b, c = 4, 3, 2\n",
    "\n",
    "# Exponentiation has higher precedence than addition\n",
    "d = a**b + c  # Equivalent to (a**b) + c\n",
    "print(\"\\nOperator precedence:\")\n",
    "print(\"a =\", a, \", b =\", b, \", c =\", c)\n",
    "print(\"a**b + c =\", d, \"  # Exponentiation is performed first, then addition\")\n",
    "\n",
    "# Parentheses can be used to override default precedence\n",
    "e = a**(b + c)  # Equivalent to a^(b+c)\n",
    "print(\"a**(b + c) =\", e, \"  # Parentheses force addition to be performed first, then exponentiation\")\n",
    "print(\"The output is different due to operator precedence in Python.\")\n",
    "\n"
   ]
  }
 ],
 "metadata": {
  "kernelspec": {
   "display_name": "Python 3 (ipykernel)",
   "language": "python",
   "name": "python3"
  },
  "language_info": {
   "codemirror_mode": {
    "name": "ipython",
    "version": 3
   },
   "file_extension": ".py",
   "mimetype": "text/x-python",
   "name": "python",
   "nbconvert_exporter": "python",
   "pygments_lexer": "ipython3",
   "version": "3.12.4"
  }
 },
 "nbformat": 4,
 "nbformat_minor": 5
}
