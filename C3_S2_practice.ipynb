{
 "cells": [
  {
   "cell_type": "code",
   "execution_count": 5,
   "id": "dc34f285-c464-45f8-bdf6-b725fb63c383",
   "metadata": {},
   "outputs": [
    {
     "name": "stdin",
     "output_type": "stream",
     "text": [
      " A\n"
     ]
    },
    {
     "name": "stdout",
     "output_type": "stream",
     "text": [
      "Python\n"
     ]
    }
   ],
   "source": [
    "character=input()\n",
    "if character==\"A\":\n",
    "    print(\"Python\")\n",
    "elif character==\"B\":\n",
    "    print(\"MySQL\")\n",
    "elif character==\"C\":\n",
    "    print(\"Excel\")\n",
    "else:\n",
    "    print(\"Holiday\")"
   ]
  },
  {
   "cell_type": "code",
   "execution_count": 15,
   "id": "0e99fa53-81a5-49cd-b20e-bd619550b5bd",
   "metadata": {},
   "outputs": [
    {
     "name": "stdin",
     "output_type": "stream",
     "text": [
      " 6\n",
      " 3\n"
     ]
    },
    {
     "name": "stdout",
     "output_type": "stream",
     "text": [
      "a is highest\n"
     ]
    }
   ],
   "source": [
    "a=int(input())\n",
    "b=int(input())\n",
    "if a>b:\n",
    "    print(\"a is highest\")\n",
    "elif a==b:\n",
    "    print(\"Both are equal\")\n",
    "else:\n",
    "    print(\"b is highest\")\n"
   ]
  },
  {
   "cell_type": "code",
   "execution_count": 17,
   "id": "701a8329-4ed2-48f2-97e5-f32d3616e6f5",
   "metadata": {},
   "outputs": [
    {
     "name": "stdin",
     "output_type": "stream",
     "text": [
      "Enter your monthly basic salary: $ 6\n"
     ]
    },
    {
     "name": "stdout",
     "output_type": "stream",
     "text": [
      "Your annual gross salary is: $82.80\n"
     ]
    }
   ],
   "source": [
    "# Input basic salary from user\n",
    "basic_salary = float(input(\"Enter your monthly basic salary: $\"))\n",
    "\n",
    "# Calculate HRA and TA based on basic salary\n",
    "if basic_salary <= 4000:\n",
    "    hra = basic_salary * 0.10\n",
    "    ta = basic_salary * 0.05\n",
    "elif basic_salary <= 10000:\n",
    "    hra = basic_salary * 0.10\n",
    "    ta = basic_salary * 0.10\n",
    "else:\n",
    "    hra = basic_salary * 0.15\n",
    "    ta = basic_salary * 0.15\n",
    "\n",
    "# Calculate monthly gross salary\n",
    "monthly_gross = basic_salary + hra + ta\n",
    "\n",
    "# Calculate annual gross salary\n",
    "annual_gross = monthly_gross * 12\n",
    "\n",
    "# Display the result\n",
    "print(f\"Your annual gross salary is: ${annual_gross:.2f}\")"
   ]
  },
  {
   "cell_type": "code",
   "execution_count": 19,
   "id": "26262a49-57dd-4811-93e0-d7d27cbefdf6",
   "metadata": {},
   "outputs": [
    {
     "name": "stdin",
     "output_type": "stream",
     "text": [
      "Enter a word to search for:  high\n"
     ]
    },
    {
     "name": "stdout",
     "output_type": "stream",
     "text": [
      "YES\n"
     ]
    }
   ],
   "source": [
    "var = \"Python is an interpreted, high-level, general-purpose programming language. Its designphilosophy emphasizes code readability, with its useof significant indentation. Its language constructs aswell as its object-oriented approach aim to helpprogrammers write clear, logical code for small andlarge-scale projects.\"\n",
    "\n",
    "# Convert the string to lowercase for case-insensitive comparison\n",
    "var_lower = var.lower()\n",
    "\n",
    "# Get input from the user\n",
    "word = input(\"Enter a word to search for: \").lower()\n",
    "\n",
    "# Check if the word exists in var\n",
    "if word in var_lower:\n",
    "    print(\"YES\")\n",
    "else:\n",
    "    print(\"NO\")"
   ]
  },
  {
   "cell_type": "code",
   "execution_count": 21,
   "id": "75a01aa9-ab40-458f-bf23-584d5094c224",
   "metadata": {},
   "outputs": [
    {
     "name": "stdin",
     "output_type": "stream",
     "text": [
      "Enter an alphabet:  a\n"
     ]
    },
    {
     "name": "stdout",
     "output_type": "stream",
     "text": [
      "lowercase\n"
     ]
    }
   ],
   "source": [
    "# Get input from the user\n",
    "char = input(\"Enter an alphabet: \")\n",
    "\n",
    "# Check if the character is uppercase or lowercase\n",
    "if char.isupper():\n",
    "    print(\"UPPERCASE\")\n",
    "elif char.islower():\n",
    "    print(\"lowercase\")\n",
    "else:\n",
    "    print(\"The input is not an alphabet.\")"
   ]
  },
  {
   "cell_type": "code",
   "execution_count": 23,
   "id": "5eccf079-e3e8-4290-8bc4-bd65d6054f3b",
   "metadata": {},
   "outputs": [
    {
     "name": "stdin",
     "output_type": "stream",
     "text": [
      "Enter an alphabet:  a\n"
     ]
    },
    {
     "name": "stdout",
     "output_type": "stream",
     "text": [
      "vowel\n"
     ]
    }
   ],
   "source": [
    "# Get input from the user\n",
    "char = input(\"Enter an alphabet: \").lower()\n",
    "\n",
    "# Check if the input is a single alphabet\n",
    "if len(char) == 1 and char.isalpha():\n",
    "    # List of vowels\n",
    "    vowels = 'aeiou'\n",
    "    \n",
    "    # Check if the character is a vowel or consonant\n",
    "    if char in vowels:\n",
    "        print(\"vowel\")\n",
    "    else:\n",
    "        print(\"consonant\")\n",
    "else:\n",
    "    print(\"Invalid input. Please enter a single alphabet.\")"
   ]
  },
  {
   "cell_type": "code",
   "execution_count": null,
   "id": "e8b426f4-a88f-4d5c-9094-917f2c9909e5",
   "metadata": {},
   "outputs": [],
   "source": []
  }
 ],
 "metadata": {
  "kernelspec": {
   "display_name": "Python 3 (ipykernel)",
   "language": "python",
   "name": "python3"
  },
  "language_info": {
   "codemirror_mode": {
    "name": "ipython",
    "version": 3
   },
   "file_extension": ".py",
   "mimetype": "text/x-python",
   "name": "python",
   "nbconvert_exporter": "python",
   "pygments_lexer": "ipython3",
   "version": "3.12.4"
  }
 },
 "nbformat": 4,
 "nbformat_minor": 5
}
