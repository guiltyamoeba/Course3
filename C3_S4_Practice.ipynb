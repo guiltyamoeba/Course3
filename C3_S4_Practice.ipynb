{
 "cells": [
  {
   "cell_type": "code",
   "execution_count": 2,
   "id": "ec1672d2-e3f2-4ec6-abf7-bab71d05070b",
   "metadata": {},
   "outputs": [
    {
     "name": "stdin",
     "output_type": "stream",
     "text": [
      "Enter a number:  6\n"
     ]
    },
    {
     "name": "stdout",
     "output_type": "stream",
     "text": [
      "The factorial is: 720\n"
     ]
    }
   ],
   "source": [
    "number = int(input(\"Enter a number: \"))\n",
    "\n",
    "factorial = 1\n",
    "\n",
    "while number > 0:\n",
    "  factorial = factorial * number\n",
    "  number = number - 1\n",
    "\n",
    "print(\"The factorial is:\", factorial)\n"
   ]
  },
  {
   "cell_type": "code",
   "execution_count": 4,
   "id": "c5017221-bcc6-4ba8-b40d-909ebdfe2ad4",
   "metadata": {},
   "outputs": [
    {
     "name": "stdout",
     "output_type": "stream",
     "text": [
      "50 is not a prime number\n",
      "51 is not a prime number\n"
     ]
    }
   ],
   "source": [
    "def is_prime(number):\n",
    "  if number <= 1:\n",
    "    return False\n",
    "\n",
    "  divisor = 2\n",
    "  while divisor * divisor <= number:\n",
    "    if number % divisor == 0:\n",
    "      return False\n",
    "    divisor = divisor + 1\n",
    "\n",
    "  return True\n",
    "\n",
    "# Check if 50 is prime\n",
    "if is_prime(50):\n",
    "  print(\"50 is a prime number\")\n",
    "else:\n",
    "  print(\"50 is not a prime number\")\n",
    "\n",
    "# Check if 51 is prime\n",
    "if is_prime(51):\n",
    "  print(\"51 is a prime number\")\n",
    "else:\n",
    "  print(\"51 is not a prime number\")\n"
   ]
  },
  {
   "cell_type": "code",
   "execution_count": 6,
   "id": "79466149-f0a5-4d9c-b6fd-0ad3a7664044",
   "metadata": {},
   "outputs": [
    {
     "name": "stdin",
     "output_type": "stream",
     "text": [
      "Enter a five-digit number:  55555\n"
     ]
    },
    {
     "name": "stdout",
     "output_type": "stream",
     "text": [
      "Sum of digits: 25\n"
     ]
    }
   ],
   "source": [
    "number = int(input(\"Enter a five-digit number: \"))\n",
    "\n",
    "sum_of_digits = 0\n",
    "while number > 0:\n",
    "  digit = number % 10\n",
    "  sum_of_digits += digit\n",
    "  number = number // 10\n",
    "\n",
    "print(\"Sum of digits:\", sum_of_digits)\n",
    "\n"
   ]
  },
  {
   "cell_type": "code",
   "execution_count": 8,
   "id": "be6b63b4-3f28-4ec0-a2a5-f2aa00f17784",
   "metadata": {},
   "outputs": [
    {
     "name": "stdout",
     "output_type": "stream",
     "text": [
      "0, 1, 1, 2, 3, 5, 8, "
     ]
    }
   ],
   "source": [
    "a = 0\n",
    "b = 1\n",
    "count = 0\n",
    "\n",
    "while count < 7:\n",
    "  print(a, end=\", \")\n",
    "  c = a + b\n",
    "  a = b\n",
    "  b = c\n",
    "  count += 1\n"
   ]
  },
  {
   "cell_type": "code",
   "execution_count": 10,
   "id": "9d1b5074-cd0d-41bf-aed9-257611a50fc5",
   "metadata": {},
   "outputs": [
    {
     "name": "stdout",
     "output_type": "stream",
     "text": [
      "ID of t1 before: 2038225461440\n",
      "ID of t2 before: 2038226628096\n",
      "ID of t1 after: 2038202258496\n",
      "ID of t2 after: 2038226628096\n"
     ]
    }
   ],
   "source": [
    "t1 = (1, 2, 3)\n",
    "t2 = (4, 5, 6)\n",
    "\n",
    "print(\"ID of t1 before:\", id(t1))\n",
    "print(\"ID of t2 before:\", id(t2))\n",
    "\n",
    "# This line will cause an error because you cannot add a number to a tuple\n",
    "# t1 = t1 + 2\n",
    "\n",
    "# To concatenate tuples, you should use another tuple:\n",
    "t3 = (2,)\n",
    "t1 = t1 + t3\n",
    "\n",
    "print(\"ID of t1 after:\", id(t1))\n",
    "print(\"ID of t2 after:\", id(t2))\n"
   ]
  },
  {
   "cell_type": "code",
   "execution_count": 12,
   "id": "04b599df-481e-42b7-809a-694a9d12a968",
   "metadata": {},
   "outputs": [
    {
     "name": "stdout",
     "output_type": "stream",
     "text": [
      "{70, 10, 20, 30, 33, 40, 50, 55, 60}\n"
     ]
    }
   ],
   "source": [
    "m = {10, 20, 30, 40, 50}\n",
    "n = [33, 40, 55, 60, 70]\n",
    "\n",
    "for num in n:\n",
    "  m.add(num)\n",
    "\n",
    "print(m)\n"
   ]
  },
  {
   "cell_type": "code",
   "execution_count": 14,
   "id": "13cab916-e638-45eb-ad4d-a8936f8e6043",
   "metadata": {},
   "outputs": [
    {
     "name": "stdout",
     "output_type": "stream",
     "text": [
      "Data 2\n",
      "SQL 4\n"
     ]
    }
   ],
   "source": [
    "data_set = {\"Python\": 1, \"Data\": 2, \"Excel\": 3, \"SQL\": 4}\n",
    "\n",
    "for key, value in data_set.items():\n",
    "  if value % 2 == 0:\n",
    "    print(key, value)\n"
   ]
  },
  {
   "cell_type": "code",
   "execution_count": 16,
   "id": "366892f6-a44a-40fb-9483-b5418b0aee5d",
   "metadata": {},
   "outputs": [
    {
     "name": "stdout",
     "output_type": "stream",
     "text": [
      "{1: 1, 2: 4, 3: 9, 4: 16, 5: 25, 6: 36, 7: 49, 8: 64, 9: 81, 10: 100, 11: 121, 12: 144, 13: 169, 14: 196, 15: 225, 100: 10000}\n"
     ]
    }
   ],
   "source": [
    "d = {}\n",
    "\n",
    "for i in range(1, 16):\n",
    "  d[i] = i * i\n",
    "\n",
    "d.update({100: 10000})\n",
    "\n",
    "print(d)\n"
   ]
  },
  {
   "cell_type": "code",
   "execution_count": null,
   "id": "bcaae1c0-6b6d-4fbe-a466-a4a71296ea88",
   "metadata": {},
   "outputs": [],
   "source": []
  }
 ],
 "metadata": {
  "kernelspec": {
   "display_name": "Python 3 (ipykernel)",
   "language": "python",
   "name": "python3"
  },
  "language_info": {
   "codemirror_mode": {
    "name": "ipython",
    "version": 3
   },
   "file_extension": ".py",
   "mimetype": "text/x-python",
   "name": "python",
   "nbconvert_exporter": "python",
   "pygments_lexer": "ipython3",
   "version": "3.12.4"
  }
 },
 "nbformat": 4,
 "nbformat_minor": 5
}
